{
  "nbformat": 4,
  "nbformat_minor": 0,
  "metadata": {
    "colab": {
      "provenance": [],
      "authorship_tag": "ABX9TyMXYf4qAbkYAkGMUlBB0IA2",
      "include_colab_link": true
    },
    "kernelspec": {
      "name": "python3",
      "display_name": "Python 3"
    },
    "language_info": {
      "name": "python"
    }
  },
  "cells": [
    {
      "cell_type": "markdown",
      "metadata": {
        "id": "view-in-github",
        "colab_type": "text"
      },
      "source": [
        "<a href=\"https://colab.research.google.com/github/dhzh2652/DevOps/blob/main/TD1.ipynb\" target=\"_parent\"><img src=\"https://colab.research.google.com/assets/colab-badge.svg\" alt=\"Open In Colab\"/></a>"
      ]
    },
    {
      "cell_type": "code",
      "source": [
        "# exo1\n",
        "import numpy as np\n",
        "\n",
        "def sumMat(x,y):\n",
        "    try:\n",
        "        arr = np.matrix(x)\n",
        "        arr2 = np.matrix(y)\n",
        "\n",
        "        out_arr = np.add(arr, arr2)\n",
        "        return out_arr\n",
        "        \n",
        "    except :\n",
        "        print('Not applicable !')\n",
        "\n",
        "a = [[1, 2], [4, 3]]\n",
        "b = [[5, 1], [6, 1]]\n",
        "\n",
        "print(sumMat(a,b))\n",
        "\n",
        "x = [[1, 2, 6], [4, 3, 0]]\n",
        "y = [[5, 1], [6, 1]]\n",
        "print(sumMat(x,y))"
      ],
      "metadata": {
        "colab": {
          "base_uri": "https://localhost:8080/"
        },
        "id": "WkT7ZXENDYWg",
        "outputId": "74993b9a-36ee-4429-f6b5-fa81e6942856"
      },
      "execution_count": null,
      "outputs": [
        {
          "output_type": "stream",
          "name": "stdout",
          "text": [
            "[[ 6  3]\n",
            " [10  4]]\n",
            "Not applicable !\n",
            "None\n"
          ]
        }
      ]
    },
    {
      "cell_type": "code",
      "source": [
        "#exo2\n",
        "import numpy as np\n",
        "\n",
        " \n",
        "\n",
        "def prodMat(x,y):\n",
        "\n",
        "    try:\n",
        "\n",
        "        a = np.matrix(x)\n",
        "\n",
        "        b = np.matrix(y)\n",
        "\n",
        "       \n",
        "\n",
        "        if (a.dtype != np.int64) or (b.dtype != np.int64) :\n",
        "\n",
        "            raise TypeError()\n",
        "\n",
        "        if a.shape[1] != b.shape[0] :\n",
        "\n",
        "            raise IndexError()\n",
        "\n",
        "           \n",
        "\n",
        "        return np.matmul(a,b)\n",
        "\n",
        "    \n",
        "\n",
        "    except IndexError:\n",
        "\n",
        "        print(\"dimension error\")\n",
        "\n",
        "    except TypeError:\n",
        "\n",
        "        print(\"type must be int\")"
      ],
      "metadata": {
        "id": "VBczyLo2sTAm"
      },
      "execution_count": null,
      "outputs": []
    },
    {
      "cell_type": "code",
      "source": [
        "#exo 3\n",
        "import numpy as np\n",
        "\n",
        "\n",
        "def std_list(values):\n",
        "  if isinstance(values, list) :\n",
        "    try:  \n",
        "        return np.std(values) \n",
        "    except:\n",
        "        raise TypeError('not applicable!')\n",
        "  else: \n",
        "        raise TypeError('Input should be a list!')\n",
        "     "
      ],
      "metadata": {
        "id": "mBmR-ooGsfc-"
      },
      "execution_count": null,
      "outputs": []
    },
    {
      "cell_type": "code",
      "source": [
        "import numpy as np\n",
        "\n",
        "def prodMat(x,y): \n",
        "  try:\n",
        "    if np.issubdtype(np.matrix(x).dtype, np.integer) and np.issubdtype(np.matrix(y).dtype, np.integer):\n",
        "        res = np.dot(x,y)\n",
        "        return res\n",
        "    else :\n",
        "      raise TypeError()\n",
        "    \n",
        "  except TypeError:\n",
        "    print(\"type must be int\")\n",
        "\n",
        "  \n",
        "\n",
        "\n",
        "#test\n",
        "x = [[1, 2], [4, 3]]\n",
        "y = [[5, 1], [6, 1]]\n",
        "print(prodMat(x,y))\n",
        "#tes type\n",
        "x = [1.4]\n",
        "y = [6]\n",
        "print(prodMat(x,y))\n",
        "#test dimenssion \n",
        "\n",
        "\n",
        "\n",
        "\n"
      ],
      "metadata": {
        "colab": {
          "base_uri": "https://localhost:8080/"
        },
        "id": "5eG6dluQPvJg",
        "outputId": "67cb4cc5-81fd-43b5-f34e-b8cc78ca8c3f"
      },
      "execution_count": null,
      "outputs": [
        {
          "output_type": "stream",
          "name": "stdout",
          "text": [
            "[[17  3]\n",
            " [38  7]]\n",
            "type must be int\n",
            "None\n"
          ]
        }
      ]
    },
    {
      "cell_type": "code",
      "source": [
        "array = [[100,200,300], [400,500,600]]\n",
        " \n",
        "#get the number of rows\n",
        "rows = len(array)\n",
        " \n",
        "#get the number of columns\n",
        "cols = len(array[0])\n",
        " \n",
        "print('Length is', rows)\n",
        "print('Number of columns', cols)\n",
        "print('Total number of elements', rows * cols)"
      ],
      "metadata": {
        "colab": {
          "base_uri": "https://localhost:8080/"
        },
        "id": "V-wP5dQsRwjm",
        "outputId": "6d2455bf-4271-4fd2-b939-243a9361d378"
      },
      "execution_count": null,
      "outputs": [
        {
          "output_type": "stream",
          "name": "stdout",
          "text": [
            "Length is 2\n",
            "Number of columns 3\n",
            "Total number of elements 6\n"
          ]
        }
      ]
    },
    {
      "cell_type": "code",
      "source": [
        "import numpy as np\n",
        "\n",
        "def prodMat(x,y): \n",
        "  try:\n",
        "    if np.issubdtype(np.matrix(x).dtype, np.integer) and np.issubdtype(np.matrix(y).dtype, np.integer) and len(x[0]) == len(y):\n",
        "        res = np.dot(x,y)\n",
        "        return res\n",
        "    elif len(x[0]) != len(y) : \n",
        "        print(\"dimension error\")\n",
        "    else : \n",
        "      raise TypeError()\n",
        "    \n",
        "  except TypeError:\n",
        "    print(\"type must be int\")\n",
        "  \n",
        "\n",
        "  \n",
        "# mse = ((x - y)**2).mean(axis=ax)\n",
        "#test\n",
        "x = [[1, 2], [4, 3]]\n",
        "y = [[5, 1], [6, 1]]\n",
        "print(prodMat(x,y))\n",
        "#tes type\n",
        "x = [1.4]\n",
        "y = [6]\n",
        "print(prodMat(x,y))\n",
        "#test dimenssion \n",
        "\n",
        "x = [[1, 2, 6], [4, 3, 0]]\n",
        "y = [[5, 1], [6, 1]]\n",
        "print(prodMat(x,y))\n",
        "\n",
        "\n"
      ],
      "metadata": {
        "colab": {
          "base_uri": "https://localhost:8080/"
        },
        "id": "Crqf43RmTu16",
        "outputId": "71c86f98-85bc-42af-a0fc-4798a54137cf"
      },
      "execution_count": null,
      "outputs": [
        {
          "output_type": "stream",
          "name": "stdout",
          "text": [
            "[[17  3]\n",
            " [38  7]]\n",
            "type must be int\n",
            "None\n",
            "dimension error\n",
            "None\n"
          ]
        }
      ]
    },
    {
      "cell_type": "code",
      "source": [
        "\n",
        "import numpy as np\n",
        "\n",
        "def std_list(values):\n",
        "    try:\n",
        "\n",
        "        #insert your code here\n",
        "        \n",
        "    except:\n",
        "        raise TypeError('not applicable!')\n",
        "  \n",
        "print(\"%.2f\" % std_list([1,2,3]))\n",
        "\n",
        "try:\n",
        "  print(\"%.2f\" % std_list(12))\n",
        "except Exception as e:\n",
        "  print(e)"
      ],
      "metadata": {
        "colab": {
          "base_uri": "https://localhost:8080/",
          "height": 132
        },
        "id": "OCt2GmqHjOhd",
        "outputId": "8e6eae0d-1c1c-46ee-857b-0f84e513a5d6"
      },
      "execution_count": null,
      "outputs": [
        {
          "output_type": "error",
          "ename": "IndentationError",
          "evalue": "ignored",
          "traceback": [
            "\u001b[0;36m  File \u001b[0;32m\"<ipython-input-204-06253f4c3061>\"\u001b[0;36m, line \u001b[0;32m8\u001b[0m\n\u001b[0;31m    except:\u001b[0m\n\u001b[0m         ^\u001b[0m\n\u001b[0;31mIndentationError\u001b[0m\u001b[0;31m:\u001b[0m expected an indented block\n"
          ]
        }
      ]
    },
    {
      "cell_type": "code",
      "source": [
        "import numpy as np\n",
        "import matplotlib as mpl\n",
        "import matplotlib.pyplot as plt\n",
        "from matplotlib import rc\n",
        "\n",
        "X = np.linspace(-2, 2, 20)\n",
        "X\n",
        "\n",
        "Y1 = np.exp(X)\n",
        "Y2 = X ** 2\n",
        "Y3 = 2 * np.sin(X) + 4\n",
        "\n",
        "plt.plot(X, Y1, 'b-', label = r'$e^{x}$')\n",
        "plt.plot(X, Y2, 'r+', label = r'$x^{2}$')\n",
        "plt.plot(X, Y3, 'ks--', linewidth = 2, label = r'$2 \\times sin(x) + 4$')\n",
        "plt.xlabel('x')\n",
        "plt.ylabel('y')\n",
        "plt.legend()\n",
        "plt.grid('True')\n",
        "plt.show()"
      ],
      "metadata": {
        "colab": {
          "base_uri": "https://localhost:8080/",
          "height": 279
        },
        "id": "TV_mMD87ndsj",
        "outputId": "0cf7da44-8739-44aa-82cf-74b901c59dd7"
      },
      "execution_count": null,
      "outputs": [
        {
          "output_type": "display_data",
          "data": {
            "text/plain": [
              "<Figure size 432x288 with 1 Axes>"
            ],
            "image/png": "[encoded data removed]"
          },
          "metadata": {
            "needs_background": "light"
          }
        }
      ]
    },
    {
      "cell_type": "code",
      "source": [
        "def f(x,y):\n",
        "  \"\"\"fonction de Rosenbrock\"\"\"\n",
        "  return (1-x)**2+(y-x**2)**2\n",
        "help(f)"
      ],
      "metadata": {
        "id": "UB4afaOioBMv"
      },
      "execution_count": null,
      "outputs": []
    },
    {
      "cell_type": "code",
      "source": [
        "import numpy as np\n",
        "x, y = np.meshgrid(np.linspace(-1,1, 201), np.linspace(-1,2, 201))\n",
        "z = f(x,y)\n",
        "graphe = plt.contour (x, y, z, 20, cmap='jet')\n",
        "plt.colorbar()"
      ],
      "metadata": {
        "colab": {
          "base_uri": "https://localhost:8080/",
          "height": 286
        },
        "id": "xOq3D6Dpn5lM",
        "outputId": "a46ccac4-deb7-412c-e483-2a6feb66d047"
      },
      "execution_count": null,
      "outputs": [
        {
          "output_type": "execute_result",
          "data": {
            "text/plain": [
              "<matplotlib.colorbar.Colorbar at 0x7f174cce6b50>"
            ]
          },
          "metadata": {},
          "execution_count": 211
        },
        {
          "output_type": "display_data",
          "data": {
            "text/plain": [
              "<Figure size 432x288 with 2 Axes>"
            ],
            "image/png": "[encoded data removed]"
          },
          "metadata": {
            "needs_background": "light"
          }
        }
      ]
    },
    {
      "cell_type": "code",
      "source": [
        "import numpy as np\n",
        "from matplotlib import pyplot as plt\n",
        "from matplotlib import rc\n",
        "import pylab\n",
        "\n",
        "fig, ax = plt.subplots()\n",
        "ax.grid(True)\n",
        "\n",
        "# Move left y-axis and bottim x-axis to centre, passing through (0,0)\n",
        "ax.spines['left'].set_position('zero')\n",
        "ax.spines['bottom'].set_position('zero')\n",
        "# Eliminate upper and right axes\n",
        "ax.spines['right'].set_color('none')\n",
        "ax.spines['top'].set_color('none')\n",
        "# Show ticks in the left and lower axes only\n",
        "ax.xaxis.set_ticks_position('bottom')\n",
        "ax.yaxis.set_ticks_position('left')\n",
        "\n",
        "x = np.arange(0,500,1/40.)\n",
        "\n",
        "y1=800-2*x\n",
        "ax.plot(x, y1, color='blue', alpha=1.00, label=r'$2x_A+x_B=800$')\n",
        "\n",
        "y2=.5*(700-x)\n",
        "ax.plot(x, y2, color='orange', alpha=1.00, label=r'$x_A+2x_B=700$')\n",
        "\n",
        "y3=300*np.ones(len(x))\n",
        "ax.plot(x, y3, color='green', alpha=1.00, label=r'$x_B=300$')\n",
        "\n",
        "y12 = np.minimum(y1,y2)\n",
        "y = np.minimum(y12,y3)\n",
        "\n",
        "ax.fill_between(x, 800*np.ones(len(x)), interpolate=True, color='red', alpha=.1)\n",
        "ax.fill_between(x, y, interpolate=True, color='white', alpha=1)\n",
        "\n",
        "ax.axvspan(-10, 0, alpha=0.1, color='red')\n",
        "ax.axhspan(-200, 0, alpha=0.1, color='red')\n",
        "\n",
        "plt.plot(300,400,'ro',label=r'KO') \n",
        "plt.plot(100,200,'bo',label=r'OK') \n",
        "\n",
        "liste = [0, 1000,2200,2900]\n",
        "for i in liste:\n",
        "  zi=-4/5*x+i/5\n",
        "  ax.plot(x, zi, color='r', ls=':',lw=2,alpha=1)#, label=r'$4x_A+5x_B={i}$')\n",
        "\n",
        "plt.xlabel(r'$x_A$')\n",
        "plt.ylabel(r'$x_B$')\n",
        "\n",
        "# Shrink current axis by 20%\n",
        "#box = ax.get_position()\n",
        "#ax.set_position([box.x0, box.y0, box.width * 0.8, box.height])\n",
        "\n",
        "# Put a legend to the right of the current axis\n",
        "#ax.legend(loc='center left', bbox_to_anchor=(1, 0.5))\n",
        "ax.legend(loc='upper center', bbox_to_anchor=(0.5, 1.05), ncol=3, fancybox=True, shadow=True)\n",
        "\n",
        "pylab.xlim([-20,450])\n",
        "pylab.ylim([-20,500])\n",
        "\n",
        "ax.set_aspect(1)\n",
        "plt.show()"
      ],
      "metadata": {
        "colab": {
          "base_uri": "https://localhost:8080/",
          "height": 279
        },
        "id": "-aL_YQ9m8C7-",
        "outputId": "fdfd43ad-7e3d-4a43-91df-d609f7b70a4c"
      },
      "execution_count": null,
      "outputs": [
        {
          "output_type": "display_data",
          "data": {
            "text/plain": [
              "<Figure size 432x288 with 1 Axes>"
            ],
            "image/png": "[encoded data removed]"
          },
          "metadata": {
            "needs_background": "light"
          }
        }
      ]
    },
    {
      "cell_type": "code",
      "source": [
        "import numpy as np\n",
        "from matplotlib import pyplot as plt\n",
        "from matplotlib import rc\n",
        "import pylab\n",
        "\n",
        "fig, ax = plt.subplots()\n",
        "ax.grid(True)\n",
        "\n",
        "ax.spines['left'].set_position('zero')\n",
        "ax.spines['bottom'].set_position('zero')\n",
        "ax.spines['right'].set_color('none')\n",
        "ax.spines['top'].set_color('none')\n",
        "ax.xaxis.set_ticks_position('bottom')\n",
        "ax.yaxis.set_ticks_position('left')\n",
        "\n",
        "x = np.arange(0,500,1/40.)\n",
        "\n",
        "y1=400-x\n",
        "ax.plot(x, y1, color='blue', alpha=1.00, label=r'$x+y=400$')\n",
        "\n",
        "y2=600-2*x\n",
        "ax.plot(x, y2, color='orange', alpha=1.00, label=r'$2x+y=600$')\n",
        "y = np.minimum(y1,y2)\n",
        "\n",
        "ax.fill_between(x, 600*np.ones(len(x)), interpolate=True, color='red', alpha=.1)\n",
        "ax.fill_between(x, y, interpolate=True, color='white', alpha=1)\n",
        "\n",
        "ax.axvspan(-10, 0, alpha=0.1, color='red')\n",
        "ax.axhspan(-200, 0, alpha=0.1, color='red')\n",
        "\n",
        "plt.plot(200,200,'go',label=r'Optimizer x=200, y=200') \n",
        "\n",
        "liste = [0,500000,1000000,5200000]\n",
        "for i in liste:\n",
        "  zi=-16000/10000*x+i/10000\n",
        "  ax.plot(x, zi, color='r', ls=':',lw=2,alpha=1)\n",
        "\n",
        "plt.xlabel(r'$x$')\n",
        "plt.ylabel(r'$y$')\n",
        "\n",
        "ax.legend(loc='upper center', bbox_to_anchor=(0.5, 1.05), ncol=3, fancybox=True, shadow=True)\n",
        "\n",
        "pylab.xlim([-20,450])\n",
        "pylab.ylim([-20,500])\n",
        "\n",
        "ax.set_aspect(1)\n",
        "plt.show()"
      ],
      "metadata": {
        "colab": {
          "base_uri": "https://localhost:8080/",
          "height": 277
        },
        "id": "3qEFmT1E8wxJ",
        "outputId": "77c944c1-d64e-40a3-84a5-372188fe1f14"
      },
      "execution_count": null,
      "outputs": [
        {
          "output_type": "display_data",
          "data": {
            "text/plain": [
              "<Figure size 432x288 with 1 Axes>"
            ],
            "image/png": "[encoded data removed]"
          },
          "metadata": {
            "needs_background": "light"
          }
        }
      ]
    },
    {
      "cell_type": "code",
      "source": [
        "import numpy as np\n",
        "from matplotlib import pyplot as plt\n",
        "from matplotlib import rc\n",
        "import pylab\n",
        "\n",
        "fig, ax = plt.subplots()\n",
        "ax.grid(True)\n",
        "\n",
        "ax.spines['left'].set_position('zero')\n",
        "ax.spines['bottom'].set_position('zero')\n",
        "ax.spines['right'].set_color('none')\n",
        "ax.spines['top'].set_color('none')\n",
        "ax.xaxis.set_ticks_position('bottom')\n",
        "ax.yaxis.set_ticks_position('left')\n",
        "\n",
        "x = np.arange(0,500,1/40.)\n",
        "\n",
        "y1=400-x\n",
        "ax.plot(x, y1, color='blue', alpha=1.00, label=r'$x+y=400$')\n",
        "\n",
        "y2=700-2*x\n",
        "ax.plot(x, y2, color='orange', alpha=1.00, label=r'$2x+y=700$')\n",
        "y = np.minimum(y1,y2)\n",
        "\n",
        "ax.fill_between(x, 700*np.ones(len(x)), interpolate=True, color='red', alpha=.1)\n",
        "ax.fill_between(x, y, interpolate=True, color='white', alpha=1)\n",
        "\n",
        "ax.axvspan(-10, 0, alpha=0.1, color='red')\n",
        "ax.axhspan(-200, 0, alpha=0.1, color='red')\n",
        "\n",
        "plt.plot(300,100,'go',label=r'Optimizer x=300, y=100') \n",
        "\n",
        "liste = [0,500000,2000000,5800000]\n",
        "for i in liste:\n",
        "  zi=-16000/10000*x+i/10000\n",
        "  ax.plot(x, zi, color='r', ls=':',lw=2,alpha=1)\n",
        "\n",
        "plt.xlabel(r'$x$')\n",
        "plt.ylabel(r'$y$')\n",
        "\n",
        "ax.legend(loc='upper center', bbox_to_anchor=(0.5, 1.05), ncol=3, fancybox=True, shadow=True)\n",
        "\n",
        "pylab.xlim([-20,450])\n",
        "pylab.ylim([-20,500])\n",
        "\n",
        "ax.set_aspect(1)\n",
        "plt.show()"
      ],
      "metadata": {
        "colab": {
          "base_uri": "https://localhost:8080/",
          "height": 277
        },
        "id": "znCsx86oF4Lr",
        "outputId": "aff1817e-d7e3-4fec-9ff2-a2c5a2e280fb"
      },
      "execution_count": null,
      "outputs": [
        {
          "output_type": "display_data",
          "data": {
            "text/plain": [
              "<Figure size 432x288 with 1 Axes>"
            ],
            "image/png": "[encoded data removed]"
          },
          "metadata": {
            "needs_background": "light"
          }
        }
      ]
    },
    {
      "cell_type": "code",
      "source": [
        "import numpy as np\n",
        "from matplotlib import pyplot as plt\n",
        "from matplotlib import rc\n",
        "import pylab\n",
        "\n",
        "fig, ax = plt.subplots()\n",
        "ax.grid(True)\n",
        "\n",
        "ax.spines['left'].set_position('zero')\n",
        "ax.spines['bottom'].set_position('zero')\n",
        "ax.spines['right'].set_color('none')\n",
        "ax.spines['top'].set_color('none')\n",
        "ax.xaxis.set_ticks_position('bottom')\n",
        "ax.yaxis.set_ticks_position('left')\n",
        "\n",
        "x = np.arange(0,500,1/40.)\n",
        "\n",
        "y1=400-x\n",
        "ax.plot(x, y1, color='blue', alpha=1.00, label=r'$x+y=400$')\n",
        "\n",
        "y2=800-2*x\n",
        "ax.plot(x, y2, color='orange', alpha=1.00, label=r'$2x+y=800$')\n",
        "y = np.minimum(y1,y2)\n",
        "\n",
        "ax.fill_between(x, 800*np.ones(len(x)), interpolate=True, color='red', alpha=.1)\n",
        "ax.fill_between(x, y, interpolate=True, color='white', alpha=1)\n",
        "\n",
        "ax.axvspan(-10, 0, alpha=0.1, color='red')\n",
        "ax.axhspan(-200, 0, alpha=0.1, color='red')\n",
        "\n",
        "plt.plot(400,0,'go',label=r'Optimizer x=400, y=0') \n",
        "\n",
        "liste = [0,500000,2000000,6400000]\n",
        "for i in liste:\n",
        "  zi=-16000/10000*x+i/10000\n",
        "  ax.plot(x, zi, color='r', ls=':',lw=2,alpha=1)\n",
        "\n",
        "plt.xlabel(r'$x$')\n",
        "plt.ylabel(r'$y$')\n",
        "\n",
        "ax.legend(loc='upper center', bbox_to_anchor=(0.5, 1.05), ncol=3, fancybox=True, shadow=True)\n",
        "\n",
        "pylab.xlim([-20,450])\n",
        "pylab.ylim([-20,500])\n",
        "\n",
        "ax.set_aspect(1)\n",
        "plt.show()"
      ],
      "metadata": {
        "colab": {
          "base_uri": "https://localhost:8080/",
          "height": 277
        },
        "id": "8syEzDJALOEJ",
        "outputId": "77a7233e-f6cc-414f-9fa5-e355be9df032"
      },
      "execution_count": null,
      "outputs": [
        {
          "output_type": "display_data",
          "data": {
            "text/plain": [
              "<Figure size 432x288 with 1 Axes>"
            ],
            "image/png": "[encoded data removed]"
          },
          "metadata": {
            "needs_background": "light"
          }
        }
      ]
    },
    {
      "cell_type": "code",
      "source": [
        "import numpy as np\n",
        "from matplotlib import pyplot as plt\n",
        "from matplotlib import rc\n",
        "import pylab\n",
        "fig, ax = plt.subplots()\n",
        "ax.grid(True)\n",
        "ax.spines['left'].set_position('zero')\n",
        "ax.spines['bottom'].set_position('zero')\n",
        "ax.spines['right'].set_color('none')\n",
        "ax.spines['top'].set_color('none')\n",
        "ax.xaxis.set_ticks_position('bottom')\n",
        "ax.yaxis.set_ticks_position('left')\n",
        "x = np.arange(0,500,1/40.)\n",
        "y1=500-x\n",
        "ax.plot(x, y1, color='blue', alpha=1.00, label=r'$x+y=500$')\n",
        "y2=600-2*x\n",
        "ax.plot(x, y2, color='orange', alpha=1.00, label=r'$2x+y=600$')\n",
        "y = np.minimum(y1,y2)\n",
        "ax.fill_between(x, 800*np.ones(len(x)), interpolate=True, color='red', alpha=.1)\n",
        "ax.fill_between(x, y, interpolate=True, color='white', alpha=1)\n",
        "ax.axvspan(-10, 0, alpha=0.1, color='red')\n",
        "ax.axhspan(-200, 0, alpha=0.1, color='red')\n",
        "plt.plot(100,400,'go',label=r'Optimizer x=100, y=400')\n",
        "liste = [0, 500000, 2000000, 5600000]\n",
        "for i in liste: \n",
        "    zi=-16000/10000*x+i/10000 \n",
        "    ax.plot(x, zi, color='r', ls=':',lw=2,alpha=1)\n",
        "plt.xlabel(r'$x$')\n",
        "plt.ylabel(r'$y$')\n",
        "ax.legend(loc='center left', bbox_to_anchor=(1, 0.5))\n",
        "ax.legend(loc='upper center', bbox_to_anchor=(0.5, 1.05), ncol=3, fancybox=True, shadow=True)\n",
        "pylab.xlim([-20,450])\n",
        "pylab.ylim([-20,500])\n",
        "ax.set_aspect(1)\n",
        "plt.show()\n",
        "\n"
      ],
      "metadata": {
        "colab": {
          "base_uri": "https://localhost:8080/",
          "height": 277
        },
        "id": "Dyn03IovFSFi",
        "outputId": "bd067813-922f-4e79-9eec-88c11acef63c"
      },
      "execution_count": null,
      "outputs": [
        {
          "output_type": "display_data",
          "data": {
            "text/plain": [
              "<Figure size 432x288 with 1 Axes>"
            ],
            "image/png": "[encoded data removed]"
          },
          "metadata": {
            "needs_background": "light"
          }
        }
      ]
    },
    {
      "cell_type": "code",
      "source": [
        "\n",
        "import numpy as np\n",
        "\n",
        "def std_list(values):\n",
        "    try:\n",
        "      return np.std(values)      \n",
        "    except:\n",
        "        raise TypeError('not applicable!')\n",
        "\n",
        "print(\"%.2f\" % std_list([1,2,3]))\n",
        "\n"
      ],
      "metadata": {
        "colab": {
          "base_uri": "https://localhost:8080/"
        },
        "id": "ZegyjzysIpI0",
        "outputId": "56c24261-fdfc-471e-dddc-0f548a6487fa"
      },
      "execution_count": null,
      "outputs": [
        {
          "output_type": "stream",
          "name": "stdout",
          "text": [
            "0.82\n"
          ]
        }
      ]
    },
    {
      "cell_type": "code",
      "source": [
        "import numpy as np\n",
        "\n",
        "def std_list(values):\n",
        "    try:\n",
        "\n",
        "      if isinstance(values, list) : \n",
        "        return np.std(values) \n",
        "      else :\n",
        "        print(\"Input should be a list!\")\n",
        "    except:\n",
        "        raise TypeError('not applicable!')\n",
        "    \n",
        "         \n",
        "    \n",
        "  \n",
        "\n",
        "print(\"%.2f\" % std_list([1,2,3]))\n",
        "\n",
        "try:\n",
        "     print(\"%.2f\" % std_list(['a','b',3,23]))\n",
        "except Exception as e:\n",
        "     print(e)\n",
        "\n",
        "try:\n",
        "  print(\"%.2f\" % std_list(12))\n",
        "except Exception as e:\n",
        "  print(e)"
      ],
      "metadata": {
        "colab": {
          "base_uri": "https://localhost:8080/"
        },
        "id": "JrojVCH9KeWK",
        "outputId": "89f2050a-c73a-47a9-e6ca-5312cab12b11"
      },
      "execution_count": null,
      "outputs": [
        {
          "output_type": "stream",
          "name": "stdout",
          "text": [
            "0.82\n",
            "not applicable!\n",
            "Input should be a list!\n",
            "must be real number, not NoneType\n"
          ]
        }
      ]
    },
    {
      "cell_type": "code",
      "source": [
        "# EXO3 :\n",
        "import numpy as np\n",
        "\n",
        "def std_list(values):\n",
        "  if isinstance(values, list) :\n",
        "    try:  \n",
        "        return np.std(values) \n",
        "    except:\n",
        "        raise TypeError('not applicable!')\n",
        "  else: \n",
        "        raise TypeError('Input should be a list!')\n",
        "     \n",
        "\n",
        "print(\"%.2f\" % std_list([1,2,3]))\n",
        "\n",
        "\n",
        "try:\n",
        "     print(\"%.2f\" % std_list(['a','b',3,23]))\n",
        "except Exception as e:\n",
        "     print(e)\n",
        "\n",
        "try:\n",
        "  print(\"%.2f\" % std_list(12))\n",
        "except Exception as e:\n",
        "  print(e)\n",
        "\n",
        "\n"
      ],
      "metadata": {
        "colab": {
          "base_uri": "https://localhost:8080/"
        },
        "id": "1VpojjRHWfZd",
        "outputId": "3d0c910b-35a4-4062-e882-324b8383dfc1"
      },
      "execution_count": null,
      "outputs": [
        {
          "output_type": "stream",
          "name": "stdout",
          "text": [
            "0.82\n",
            "not applicable!\n",
            "Input should be a list!\n"
          ]
        }
      ]
    },
    {
      "cell_type": "code",
      "source": [
        "import numpy as np\n",
        "import matplotlib.pyplot as plot\n",
        "# Get x values of the sine wave\n",
        "x        = np.arange(-np.pi,2*np.pi,0.1) \n",
        "\n",
        " \n",
        "\n",
        "# Amplitude of the sine wave is sine of a variable like x\n",
        "\n",
        "amplitude   = np.sin(x)\n",
        "\n",
        " \n",
        "\n",
        "# Plot a sine wave using x and amplitude obtained for the sine wave\n",
        "\n",
        "plot.plot(x, amplitude)\n",
        "\n",
        " \n",
        "\n",
        "# Give a title for the sine wave plot\n",
        "\n",
        "plot.title('Sine wave')\n",
        "\n",
        " \n",
        "\n",
        "# Give x axis label for the sine wave plot\n",
        "\n",
        "plot.xlabel('x')\n",
        "\n",
        " \n",
        "\n",
        "# Give y axis label for the sine wave plot\n",
        "\n",
        "plot.ylabel('Amplitude = sin(x)')\n",
        "\n",
        " \n",
        "\n",
        "plot.grid(True, which='both')\n",
        "\n",
        " \n",
        "\n",
        "plot.axhline(y=0, color='k')\n",
        "\n",
        " \n",
        "\n",
        "plot.show()\n",
        "\n",
        " \n",
        "\n",
        "# Display the sine wave\n",
        "\n",
        "plot.show()"
      ],
      "metadata": {
        "colab": {
          "base_uri": "https://localhost:8080/",
          "height": 295
        },
        "id": "NQrKlq0DuFX4",
        "outputId": "3b83d761-8e61-43da-a2a9-c10898dfea71"
      },
      "execution_count": null,
      "outputs": [
        {
          "output_type": "display_data",
          "data": {
            "text/plain": [
              "<Figure size 432x288 with 1 Axes>"
            ],
            "image/png": "[encoded data removed]"
          },
          "metadata": {
            "needs_background": "light"
          }
        }
      ]
    },
    {
      "cell_type": "code",
      "source": [
        "import matplotlib.pyplot as plt\n",
        "import numpy as np\n",
        "\n",
        "# 100 linearly spaced numbers\n",
        "x = np.linspace(-np.pi,2*np.pi,100)\n",
        "\n",
        "# the function, which is y = sin(x) here\n",
        "y = np.sin(x)\n",
        "\n",
        "# setting the axes at the centre\n",
        "fig = plt.figure()\n",
        "ax = fig.add_subplot(1, 1, 1)\n",
        "ax.spines['left'].set_position('center')\n",
        "ax.spines['bottom'].set_position('center')\n",
        "ax.spines['right'].set_color('none')\n",
        "ax.spines['top'].set_color('none')\n",
        "ax.xaxis.set_ticks_position('bottom')\n",
        "ax.yaxis.set_ticks_position('left')\n",
        "\n",
        "# plot the function\n",
        "plt.plot(x,y, 'r-')\n",
        "\n",
        "# show the plot\n",
        "plt.show()"
      ],
      "metadata": {
        "colab": {
          "base_uri": "https://localhost:8080/",
          "height": 248
        },
        "id": "qb-5cOc4Jj8f",
        "outputId": "bb46e665-7155-4953-ca66-8a45b273cd2f"
      },
      "execution_count": null,
      "outputs": [
        {
          "output_type": "display_data",
          "data": {
            "text/plain": [
              "<Figure size 432x288 with 1 Axes>"
            ],
            "image/png": "[encoded data removed]"
          },
          "metadata": {
            "needs_background": "light"
          }
        }
      ]
    },
    {
      "cell_type": "code",
      "source": [
        "import matplotlib.pyplot as plt  \n",
        "import numpy as np\n",
        "import datetime\n",
        "\n",
        "\n",
        "\n",
        "customdate = datetime.datetime(2022, 7, 14)\n",
        "y = [21.75, 20.5, 22.55, 26.3, 28.2, 20.75]\n",
        "x = [customdate + datetime.timedelta(days=i) for i in range(len(y))]\n",
        "\n",
        "\n",
        "\n",
        "plt.plot(x, y, color= 'r', marker= 'o')\n",
        "\n",
        "\n",
        "\n",
        "plt.tick_params(top=True, right=True)\n",
        "\n",
        "\n",
        "\n",
        "plt.show()"
      ],
      "metadata": {
        "colab": {
          "base_uri": "https://localhost:8080/",
          "height": 269
        },
        "id": "fcd8TU7NLBPw",
        "outputId": "ef8e827d-64c4-43f2-b65e-64f2059c424f"
      },
      "execution_count": null,
      "outputs": [
        {
          "output_type": "display_data",
          "data": {
            "text/plain": [
              "<Figure size 432x288 with 1 Axes>"
            ],
            "image/png": "[encoded data removed]"
          },
          "metadata": {
            "needs_background": "light"
          }
        }
      ]
    },
    {
      "cell_type": "code",
      "source": [
        "import numpy as np\n",
        "import matplotlib.pyplot as plt  \n",
        "import datetime\n",
        "\n",
        "\n",
        "\n",
        "mydate = datetime.datetime(2022, 7, 14)\n",
        "\n",
        "x = [mydate + datetime.timedelta(days=i) for i in range(len(y))]\n",
        "y = [21.75, 20.5, 22.55, 26.3, 28.2, 20.75]\n",
        "\n",
        "plt.plot(x, y, color= 'r', marker= 'o')\n",
        "\n",
        "plt.xlabel(r'Date')\n",
        "plt.ylabel(r'Average Temperature')\n",
        "plt.title('Average Temperature at ESIEA', y=1.08)\n",
        "\n",
        "plt.tick_params(top=True, right=True)\n",
        "\n",
        "\n",
        "\n",
        "# Show the major grid lines with pink lines\n",
        "plt.grid(b=True, which='major', color='pink', linestyle='-')\n",
        "\n",
        "# Show the minor grid lines with very faint and almost transparent pink lines\n",
        "plt.minorticks_on()\n",
        "plt.grid(b=True, which='minor', color='pink', linestyle='-', alpha=0.2)\n",
        "\n",
        "plt.show()\n"
      ],
      "metadata": {
        "colab": {
          "base_uri": "https://localhost:8080/",
          "height": 313
        },
        "id": "oqTIgd32wYBr",
        "outputId": "3418071d-5e81-452d-e869-963d5efdf279"
      },
      "execution_count": null,
      "outputs": [
        {
          "output_type": "display_data",
          "data": {
            "text/plain": [
              "<Figure size 432x288 with 1 Axes>"
            ],
            "image/png": "[encoded data removed]"
          },
          "metadata": {
            "needs_background": "light"
          }
        }
      ]
    },
    {
      "cell_type": "code",
      "source": [
        "import numpy as np\n",
        "import matplotlib.pyplot as plt  \n",
        "import datetime\n",
        "\n",
        "\n",
        "\n",
        "mydate = datetime.datetime(2022, 7, 14)\n",
        "y = [21.75, 20.5, 22.55, 26.3, 28.2, 20.75]\n",
        "x = [mydate + datetime.timedelta(days=i) for i in range(len(y))]\n",
        "plt.plot(x, y, color= 'r', marker= 'o')\n",
        "plt.xlabel(r'Date')\n",
        "plt.ylabel(r'Average Temperature')\n",
        "plt.title('Average Temperature at ESIEA', y=1.08)\n",
        "\n",
        "plt.tick_params(top=True, right=True)\n",
        "\n",
        "\n",
        "\n",
        "plt.grid(b=True, which='major', color='pink', linestyle='-')\n",
        "\n",
        "plt.minorticks_on()\n",
        "plt.grid(b=True, which='minor', color='pink', linestyle='-', alpha=0.2)\n",
        "\n",
        "plt.show()\n"
      ],
      "metadata": {
        "colab": {
          "base_uri": "https://localhost:8080/",
          "height": 313
        },
        "id": "HEvXNuYTwzWv",
        "outputId": "5e4a2c19-15da-4f2b-9ae0-330f41457b86"
      },
      "execution_count": null,
      "outputs": [
        {
          "output_type": "display_data",
          "data": {
            "text/plain": [
              "<Figure size 432x288 with 1 Axes>"
            ],
            "image/png": "[encoded data removed]"
          },
          "metadata": {
            "needs_background": "light"
          }
        }
      ]
    },
    {
      "cell_type": "code",
      "source": [
        "import matplotlib.pyplot as plt\n",
        "import numpy as np\n",
        "import matplotlib.ticker as tck\n",
        "\n",
        "\n",
        "\n",
        "fig, ax = plt.subplots()\n",
        "ax.grid(True)\n",
        "ax.set_aspect(1.0)\n",
        "\n",
        "\n",
        "\n",
        "ax.spines['left'].set_position('zero')\n",
        "ax.spines['bottom'].set_position('zero')\n",
        "ax.spines['right'].set_color('none')\n",
        "ax.spines['top'].set_color('none')\n",
        "ax.xaxis.set_ticks_position('bottom')\n",
        "ax.yaxis.set_ticks_position('left')\n",
        "\n",
        "\n",
        "x = np.linspace(-np.pi,2*np.pi)\n",
        "y = np.sin(x)\n",
        "\n",
        "\n",
        "# plot the function\n",
        "plt.plot(x,y, color= 'red')\n",
        "\n",
        "\n",
        "\n",
        "plt.title(r'sin(x)')\n",
        "# format ticks at specific values\n",
        "xticks([-np.pi, -np.pi/2, 0, np.pi/2, np.pi],\n",
        "          [r'$-\\pi$', r'$-\\pi/2$', r'$0$', r'$+\\pi/2$', r'$+\\pi$'])\n",
        "yticks([-1, 0, +1],\n",
        "          [r'$-1$', r'$0$', r'$1$'])\n",
        "\n",
        "\n",
        "# show the plot\n",
        "plt.show()"
      ],
      "metadata": {
        "colab": {
          "base_uri": "https://localhost:8080/",
          "height": 122
        },
        "id": "aS-EITUl2-D-",
        "outputId": "aba3a8f5-17e2-4bca-9e1a-4b721e8c8601"
      },
      "execution_count": null,
      "outputs": [
        {
          "output_type": "display_data",
          "data": {
            "text/plain": [
              "<Figure size 432x288 with 1 Axes>"
            ],
            "image/png": "[encoded data removed]"
          },
          "metadata": {
            "needs_background": "light"
          }
        }
      ]
    },
    {
      "cell_type": "code",
      "source": [
        "import matplotlib.pyplot as plt\n",
        "import numpy as np\n",
        "import matplotlib.ticker as tck\n",
        "\n",
        "fig, ax = plt.subplots()\n",
        "ax.grid(True)\n",
        "ax.set_aspect(1.0)\n",
        "\n",
        "ax.spines['left'].set_position('zero')\n",
        "ax.spines['bottom'].set_position('zero')\n",
        "ax.spines['right'].set_color('none')\n",
        "ax.spines['top'].set_color('none')\n",
        "ax.xaxis.set_ticks_position('bottom')\n",
        "ax.yaxis.set_ticks_position('left')\n",
        "\n",
        "x = np.linspace(-np.pi,2*np.pi)\n",
        "y = np.sin(x)\n",
        "plt.plot(x,y, color= 'red')\n",
        "plt.xticks([-np.pi,-np.pi/2,0,np.pi/2,np.pi,3*np.pi/2,np.pi*2],[r'$-\\pi$', r'$\\frac{-\\pi}{2}$', r'$0$', r'$\\frac{\\pi}{2}$', r'$\\pi$', r'$\\frac{3\\pi}{2}$', r'$2\\pi$'])\n",
        "plt.title(r'sin(x)')\n",
        "plt.axvline(x=-np.pi/2, color='blue', linestyle='--')\n",
        "plt.axhline(y=-1, color='blue', linestyle='--')\n",
        "plt.axvline(x=3*np.pi/2, color='blue', linestyle='--')\n",
        "\n",
        "plt.show()"
      ],
      "metadata": {
        "colab": {
          "base_uri": "https://localhost:8080/",
          "height": 121
        },
        "id": "8l65RP1l_YSl",
        "outputId": "1cc46810-70f6-4b53-fa78-fcdf14b6f926"
      },
      "execution_count": null,
      "outputs": [
        {
          "output_type": "display_data",
          "data": {
            "text/plain": [
              "<Figure size 432x288 with 1 Axes>"
            ],
            "image/png": "[encoded data removed]"
          },
          "metadata": {
            "needs_background": "light"
          }
        }
      ]
    },
    {
      "cell_type": "code",
      "source": [
        "#  valeur optimale  z = 5 600 000 \n",
        "# la solution optimale : x = 100   et y = 400  \n",
        "# on peut dire qu'avec un stock d'acier de 600 unités et un stock de caoutchouc de 500 unités on a un gain de \"5 600 000 euros\" en fabriquant 100 grosses voitures et 400 petites voitures  \n",
        "\n",
        "\n"
      ],
      "metadata": {
        "id": "Mwvgd-21ZwbU"
      },
      "execution_count": null,
      "outputs": []
    },
    {
      "cell_type": "markdown",
      "source": [
        "**TD2**"
      ],
      "metadata": {
        "id": "Oqom6q0Iw7f2"
      }
    },
    {
      "cell_type": "code",
      "source": [
        "from scipy.optimize import linprog\n",
        "\n",
        "obj = [-100, -200, -300] \n",
        "\n",
        "lhs_ineq = [[ 3,  3.2, 3.5 ], \n",
        "            [ 0.5, 1, 2.5], \n",
        "            [ 1, 1.5, 4]]  \n",
        "\n",
        "rhs_ineq = [200,  \n",
        "            120, \n",
        "            210] \n",
        "            \n",
        "bnd = [(0, float(\"inf\")), \n",
        "       (0, float(\"inf\")), \n",
        "       (0, float(\"inf\"))] \n",
        "       \n",
        "opt = linprog(c=obj, A_ub=lhs_ineq, b_ub=rhs_ineq,\n",
        "              A_eq = None, b_eq = None, bounds=bnd,\n",
        "              method=\"revised simplex\")\n",
        "\n",
        "\n",
        "print(opt)\n"
      ],
      "metadata": {
        "colab": {
          "base_uri": "https://localhost:8080/"
        },
        "id": "G6slVwjGwxKg",
        "outputId": "fc5f8989-24eb-450f-c050-f4ba756fb866"
      },
      "execution_count": null,
      "outputs": [
        {
          "output_type": "stream",
          "name": "stdout",
          "text": [
            "     con: array([], dtype=float64)\n",
            "     fun: -15822.222222222223\n",
            " message: 'Optimization terminated successfully.'\n",
            "     nit: 2\n",
            "   slack: array([2.84217094e-14, 0.00000000e+00, 1.97777778e+01])\n",
            "  status: 0\n",
            " success: True\n",
            "       x: array([ 0.        , 17.77777778, 40.88888889])\n",
            " \n",
            "\n",
            " \n",
            "\n",
            " \n",
            "\n",
            "-15822.222222222223\n",
            "True\n"
          ]
        },
        {
          "output_type": "execute_result",
          "data": {
            "text/plain": [
              "array([ 0.        , 17.77777778, 40.88888889])"
            ]
          },
          "metadata": {},
          "execution_count": 19
        }
      ]
    },
    {
      "cell_type": "code",
      "source": [
        "from scipy.optimize import linprog\n",
        "\n",
        "obj = [2, 1] \n",
        "\n",
        "lhs_ineq = [[ -2,  -3 ], \n",
        "            [ 3, 4 ]]  \n",
        "\n",
        "rhs_ineq = [-19,  \n",
        "            32]  \n",
        "            \n",
        "bnd = [(0, float(\"inf\")),    \n",
        "       (0, float(\"inf\"))] \n",
        "       \n",
        "opt = linprog(c=obj, A_ub=lhs_ineq, b_ub=rhs_ineq,\n",
        "              A_eq = None, b_eq = None, bounds=bnd,\n",
        "              method=\"revised simplex\")\n",
        "\n",
        "\n",
        "opt\n"
      ],
      "metadata": {
        "colab": {
          "base_uri": "https://localhost:8080/"
        },
        "id": "UmGjrAxzRSQX",
        "outputId": "2fec9fa5-fdfa-4e72-9b7d-7b1416079330"
      },
      "execution_count": null,
      "outputs": [
        {
          "output_type": "stream",
          "name": "stdout",
          "text": [
            "     con: array([], dtype=float64)\n",
            "     fun: 6.333333333333333\n",
            " message: 'Optimization terminated successfully.'\n",
            "     nit: 1\n",
            "   slack: array([0.        , 6.66666667])\n",
            "  status: 0\n",
            " success: True\n",
            "       x: array([0.        , 6.33333333])\n"
          ]
        }
      ]
    },
    {
      "cell_type": "code",
      "source": [
        "!pip install -U \"scipy==1.4.*\" \"pulp==2.1\"\n",
        "\n",
        "from pulp import LpMaximize, LpProblem, LpStatus, lpSum, LpVariable\n",
        "\n",
        "\n",
        "model = LpProblem(name=\"\", sense=LpMaximize)\n",
        "\n",
        "xA = LpVariable(name=\"xA\", lowBound=0)\n",
        "xB = LpVariable(name=\"xB\", lowBound=0)\n",
        "\n",
        "model += (-2 * xA -   3* xB <= -19, \"\")\n",
        "model += (    3*xA + 4 *xB <= 32, \"\")\n",
        "\n",
        "obj_func = -2* xA -  xB\n",
        "model += obj_func\n",
        "\n",
        "model\n",
        "\n",
        "status = model.solve()\n",
        "\n",
        "print(f\"status: {model.status}, {LpStatus[model.status]}\")\n",
        "\n",
        "print(f\"objective: {model.objective.value()}\")\n",
        "\n",
        "\n",
        "for var in model.variables():\n",
        "  print(f\"{var.name}: {var.value()}\")"
      ],
      "metadata": {
        "colab": {
          "base_uri": "https://localhost:8080/"
        },
        "id": "eFytk1mlE9eK",
        "outputId": "d6c6bc69-620c-45eb-9ace-bad627251b4c"
      },
      "execution_count": null,
      "outputs": [
        {
          "output_type": "stream",
          "name": "stdout",
          "text": [
            "Looking in indexes: https://pypi.org/simple, https://us-python.pkg.dev/colab-wheels/public/simple/\n",
            "Requirement already satisfied: scipy==1.4.* in /usr/local/lib/python3.7/dist-packages (1.4.1)\n",
            "Requirement already satisfied: pulp==2.1 in /usr/local/lib/python3.7/dist-packages (2.1)\n",
            "Requirement already satisfied: numpy>=1.13.3 in /usr/local/lib/python3.7/dist-packages (from scipy==1.4.*) (1.21.6)\n",
            "Requirement already satisfied: pyparsing>=2.0.1 in /usr/local/lib/python3.7/dist-packages (from pulp==2.1) (3.0.9)\n",
            "status: 1, Optimal\n",
            "objective: -6.3333333\n",
            "xA: 0.0\n",
            "xB: 6.3333333\n"
          ]
        }
      ]
    },
    {
      "cell_type": "code",
      "source": [
        "\n",
        "model = LpProblem(name=\"\", sense=LpMaximize)\n",
        "xA = LpVariable(name=\"xA\", lowBound=0)\n",
        "xB = LpVariable(name=\"xB\", lowBound=0)\n",
        "model += (-2 * xA -   3* xB <= -19, \"\")\n",
        "model += (    3*xA + 4 *xB <= 32, \"\")\n",
        "\n",
        "obj_func = -2* xA -  xB\n",
        "model += obj_func\n",
        "\n",
        "\n",
        "status = model.solve()\n",
        "\n",
        "print(f\"status: {model.status}, {LpStatus[model.status]}\")\n",
        "\n",
        "print(f\"objective: {model.objective.value()}\")\n",
        "\n",
        "\n",
        "for var in model.variables():\n",
        "  print(f\"{var.name}: {var.value()}\")"
      ],
      "metadata": {
        "colab": {
          "base_uri": "https://localhost:8080/"
        },
        "id": "LL9jS_Q1P4ti",
        "outputId": "ab912724-5ac3-42ff-8d32-fe75beab8534"
      },
      "execution_count": null,
      "outputs": [
        {
          "output_type": "stream",
          "name": "stdout",
          "text": [
            "status: 1, Optimal\n",
            "objective: -6.3333333\n",
            "xA: 0.0\n",
            "xB: 6.3333333\n"
          ]
        }
      ]
    },
    {
      "cell_type": "code",
      "source": [
        "# Create the model\n",
        "model = LpProblem(name=\"PL\", sense=LpMaximize)\n",
        "\n",
        "# Initialize the decision variables\n",
        "x1 = LpVariable(name=\"x1\", lowBound=0)\n",
        "x2 = LpVariable(name=\"x2\", lowBound=0)\n",
        "\n",
        "# Add the constraints to the model\n",
        "model += (-2 * x1 -   3* x2 <= -19, \"1ère contrainte\")\n",
        "model += (    3*x1 + 4 *x2 <= 32, \"2ème contrainte\")\n",
        "\n",
        "# Add the objective function to the model\n",
        "obj_func = -2* x1 -  x2\n",
        "model += obj_func\n",
        "\n",
        "# Solve the problem\n",
        "status = model.solve()\n",
        "\n",
        "print(f\"status: {model.status}, {LpStatus[model.status]}\")\n",
        "\n",
        "print(f\"objective: {model.objective.value()}\")\n",
        "\n",
        "for var in model.variables():\n",
        "  print(f\"{var.name}: {var.value()}\")"
      ],
      "metadata": {
        "id": "Py_X-qPGRBYz",
        "outputId": "4936d208-6b21-40d4-cb70-a254fcf59f8b",
        "colab": {
          "base_uri": "https://localhost:8080/"
        }
      },
      "execution_count": null,
      "outputs": [
        {
          "output_type": "stream",
          "name": "stdout",
          "text": [
            "status: 1, Optimal\n",
            "objective: -6.3333333\n",
            "x1: 0.0\n",
            "x2: 6.3333333\n"
          ]
        }
      ]
    },
    {
      "cell_type": "markdown",
      "source": [
        "**TD3**"
      ],
      "metadata": {
        "id": "OVyHXbPEwB5u"
      }
    },
    {
      "cell_type": "code",
      "source": [
        "import numpy as np\n",
        "\n",
        "def gradient_descent( gradient, start, learn_rate, n_iter=500, tolerance=1e-06):\n",
        "    #complete here the function definition\n",
        "    vector = start\n",
        "    for _ in range(n_iter):\n",
        "        diff = -learn_rate * gradient(vector)\n",
        "        if np.all(np.abs(diff) <= tolerance):\n",
        "            break\n",
        "        vector += diff\n",
        "    return vector\n",
        "\n",
        "\n",
        "def solution ():\n",
        "    x, iter =  gradient_descent(\n",
        "        gradient=lambda v: v* v - v + 1, \n",
        "        start=1.0, \n",
        "        learn_rate=0.25\n",
        "    )\n",
        "    # z = #complete here the calculation of minimum value \n",
        "    #     #of the function obtained for x\n",
        "    \n",
        "    return x, iter\n",
        "\n",
        "\n",
        "#tolerance and n_iter : default\n",
        "#learning rate: 0.2\n",
        "\n",
        "minimizer, minimum, iterations= solution()\n",
        "\n",
        "print('minimizer:%.2f'%minimizer)\n",
        "print('iterations:', iterations)\n",
        "print ('minimum:%.2f'%minimum)"
      ],
      "metadata": {
        "colab": {
          "base_uri": "https://localhost:8080/",
          "height": 368
        },
        "id": "lyrnwFqHwEUU",
        "outputId": "bb631059-12be-4ef0-8574-122e1dc919c0"
      },
      "execution_count": null,
      "outputs": [
        {
          "output_type": "error",
          "ename": "TypeError",
          "evalue": "ignored",
          "traceback": [
            "\u001b[0;31m---------------------------------------------------------------------------\u001b[0m",
            "\u001b[0;31mTypeError\u001b[0m                                 Traceback (most recent call last)",
            "\u001b[0;32m<ipython-input-10-d97ff549cd18>\u001b[0m in \u001b[0;36m<module>\u001b[0;34m\u001b[0m\n\u001b[1;32m     27\u001b[0m \u001b[0;31m#learning rate: 0.2\u001b[0m\u001b[0;34m\u001b[0m\u001b[0;34m\u001b[0m\u001b[0;34m\u001b[0m\u001b[0m\n\u001b[1;32m     28\u001b[0m \u001b[0;34m\u001b[0m\u001b[0m\n\u001b[0;32m---> 29\u001b[0;31m \u001b[0mminimizer\u001b[0m\u001b[0;34m,\u001b[0m \u001b[0mminimum\u001b[0m\u001b[0;34m,\u001b[0m \u001b[0miterations\u001b[0m\u001b[0;34m=\u001b[0m \u001b[0msolution\u001b[0m\u001b[0;34m(\u001b[0m\u001b[0;34m)\u001b[0m\u001b[0;34m\u001b[0m\u001b[0;34m\u001b[0m\u001b[0m\n\u001b[0m\u001b[1;32m     30\u001b[0m \u001b[0;34m\u001b[0m\u001b[0m\n\u001b[1;32m     31\u001b[0m \u001b[0mprint\u001b[0m\u001b[0;34m(\u001b[0m\u001b[0;34m'minimizer:%.2f'\u001b[0m\u001b[0;34m%\u001b[0m\u001b[0mminimizer\u001b[0m\u001b[0;34m)\u001b[0m\u001b[0;34m\u001b[0m\u001b[0;34m\u001b[0m\u001b[0m\n",
            "\u001b[0;32m<ipython-input-10-d97ff549cd18>\u001b[0m in \u001b[0;36msolution\u001b[0;34m()\u001b[0m\n\u001b[1;32m     16\u001b[0m         \u001b[0mgradient\u001b[0m\u001b[0;34m=\u001b[0m\u001b[0;32mlambda\u001b[0m \u001b[0mv\u001b[0m\u001b[0;34m:\u001b[0m \u001b[0mv\u001b[0m\u001b[0;34m*\u001b[0m \u001b[0mv\u001b[0m \u001b[0;34m-\u001b[0m \u001b[0mv\u001b[0m \u001b[0;34m+\u001b[0m \u001b[0;36m1\u001b[0m\u001b[0;34m,\u001b[0m\u001b[0;34m\u001b[0m\u001b[0;34m\u001b[0m\u001b[0m\n\u001b[1;32m     17\u001b[0m         \u001b[0mstart\u001b[0m\u001b[0;34m=\u001b[0m\u001b[0;36m1.0\u001b[0m\u001b[0;34m,\u001b[0m\u001b[0;34m\u001b[0m\u001b[0;34m\u001b[0m\u001b[0m\n\u001b[0;32m---> 18\u001b[0;31m         \u001b[0mlearn_rate\u001b[0m\u001b[0;34m=\u001b[0m\u001b[0;36m0.25\u001b[0m\u001b[0;34m\u001b[0m\u001b[0;34m\u001b[0m\u001b[0m\n\u001b[0m\u001b[1;32m     19\u001b[0m     )\n\u001b[1;32m     20\u001b[0m     \u001b[0;31m# z = #complete here the calculation of minimum value\u001b[0m\u001b[0;34m\u001b[0m\u001b[0;34m\u001b[0m\u001b[0;34m\u001b[0m\u001b[0m\n",
            "\u001b[0;31mTypeError\u001b[0m: cannot unpack non-iterable float object"
          ]
        }
      ]
    },
    {
      "cell_type": "code",
      "source": [
        "import numpy as np\n",
        "\n",
        "\n",
        "def gradient_descent(\n",
        "    gradient, start, learn_rate, n_iter=500, tolerance=1e-06\n",
        "):\n",
        "    vector = start\n",
        "    for i in range(n_iter):\n",
        "        diff = -learn_rate * gradient(vector)\n",
        "        if np.all(np.abs(diff) <= tolerance):\n",
        "            break\n",
        "        vector += diff\n",
        "    return vector , i-1\n",
        "\n",
        "def solution ():\n",
        "    x, iter =  gradient_descent(\n",
        "        gradient=lambda v: 2* v -  1, \n",
        "        start=1.0, \n",
        "        learn_rate=0.2\n",
        "        )\n",
        "    \n",
        "    z = x*x - x +1\n",
        "   \n",
        "    \n",
        "    return x, z, iter\n",
        "\n",
        "\n",
        "\n",
        "minimizer, minimum, iterations= solution()\n",
        "\n",
        "print('minimizer:%.2f'%minimizer)\n",
        "print('iterations:', iterations)\n",
        "print ('minimum:%.2f'%minimum)"
      ],
      "metadata": {
        "colab": {
          "base_uri": "https://localhost:8080/"
        },
        "id": "WXt1h6t41FhF",
        "outputId": "6755cfee-faf3-4dee-9f9c-b59ae87e7f3e"
      },
      "execution_count": null,
      "outputs": [
        {
          "output_type": "stream",
          "name": "stdout",
          "text": [
            "minimizer:0.50\n",
            "iterations: 23\n",
            "minimum:0.75\n"
          ]
        }
      ]
    },
    {
      "cell_type": "code",
      "source": [
        "import numpy as np\n",
        "\n",
        "\n",
        "\n",
        "def gradient_descent(\n",
        "    gradient, start, learn_rate, n_iter=500, tolerance=1e-06\n",
        "):\n",
        "    vector = start\n",
        "    for i in range(n_iter):\n",
        "        diff = -learn_rate * gradient(vector)\n",
        "        if np.all(np.abs(diff) <= tolerance):\n",
        "            break\n",
        "        vector += diff\n",
        "    return vector, i\n",
        "\n",
        "\n",
        "\n",
        "def solution ():\n",
        "    x, iter = gradient_descent(\n",
        "        gradient=lambda v: 2*v-1,\n",
        "        start=10.0,\n",
        "        learn_rate=0.2\n",
        "        )\n",
        "    \n",
        "    z = x*x-x+1\n",
        "    \n",
        "    return x, z, iter\n",
        "\n",
        "minimizer, minimum, iterations= solution()\n",
        "\n",
        "print('minimizer:%.2f'%minimizer)\n",
        "print('iterations:', iterations)\n",
        "print ('minimum:%.2f'%minimum)"
      ],
      "metadata": {
        "colab": {
          "base_uri": "https://localhost:8080/"
        },
        "id": "Hq2fYSjxCZOo",
        "outputId": "7a85634c-ad1e-45d3-acfa-1b0a0fdf0ce7"
      },
      "execution_count": null,
      "outputs": [
        {
          "output_type": "stream",
          "name": "stdout",
          "text": [
            "minimizer:0.50\n",
            "iterations: 30\n",
            "minimum:0.75\n"
          ]
        }
      ]
    },
    {
      "cell_type": "code",
      "source": [
        "#question 6 \n",
        "import numpy as np\n",
        "\n",
        "def gradient_descent(\n",
        "    gradient, start, learn_rate, n_iter=500, tolerance=1e-06\n",
        "):\n",
        "    vector = start\n",
        "    for i in range(n_iter):\n",
        "        diff = -learn_rate * gradient(vector)\n",
        "        if np.all(np.abs(diff) <= tolerance):\n",
        "            break\n",
        "        vector += diff\n",
        "    return vector, i\n",
        " \n",
        "\n",
        "def solution ():\n",
        "    ans, iter =  gradient_descent(\n",
        "        gradient = lambda v: np.array([ 10 * v[0] -3,  v[1] -3]), \n",
        "        start = np.array([1.0, 1.0]), \n",
        "        learn_rate=0.1,\n",
        "        )\n",
        "    x,y = ans\n",
        "    z = 5 * x**2 + (y**2 / 2 ) - 3 *( x+y)\n",
        "    \n",
        "    return ans, z, iter\n",
        "\n",
        "minimizer, minimum, iterations= solution()\n",
        "\n",
        "print('minimizer:',minimizer)\n",
        "print('iterations:', iterations)\n",
        "print ('minimum:%.2f'%minimum)"
      ],
      "metadata": {
        "colab": {
          "base_uri": "https://localhost:8080/"
        },
        "id": "wWfCAeCjG6nH",
        "outputId": "8078d33d-80ae-4c34-84d5-81c9d1b5b494"
      },
      "execution_count": null,
      "outputs": [
        {
          "output_type": "stream",
          "name": "stdout",
          "text": [
            "minimizer: [0.3        2.99999016]\n",
            "iterations: 116\n",
            "minimum:-4.95\n"
          ]
        }
      ]
    },
    {
      "cell_type": "code",
      "source": [
        "\n",
        "import numpy as np\n",
        "\n",
        "def gradient_descent(\n",
        "    gradient, start, learn_rate, n_iter=500, tolerance=1e-06\n",
        "):\n",
        "    #complete here the function definition\n",
        "    vector = start\n",
        "    for i in range(n_iter):\n",
        "        diff = -learn_rate * gradient(vector)\n",
        "        if np.all(np.abs(diff) <= tolerance):\n",
        "            break\n",
        "        vector += diff\n",
        "    return vector, i\n",
        "\n",
        "\n",
        "def solution ():\n",
        "    ans, iter =  gradient_descent(\n",
        "        #complete here the arguments for the call\n",
        "        gradient = lambda v: np.array([ 10 * v[0] -3,  v[1] -3]), \n",
        "        start = np.array([13.0, 13.0]), \n",
        "        learn_rate=0.1,\n",
        "        )\n",
        "    x,y = ans\n",
        "    z = 5 * x**2 + (y**2 / 2 ) - 3 *( x+y)\n",
        "    #complete here the calculation of minimum value \n",
        "        #of the function obtained for x and y\n",
        "    \n",
        "    return ans, z, iter\n",
        "\n",
        "minimizer, minimum, iterations= solution()\n",
        "\n",
        "print('minimizer:',minimizer)\n",
        "print('iterations:', iterations)\n",
        "print ('minimum:%.2f'%minimum)"
      ],
      "metadata": {
        "colab": {
          "base_uri": "https://localhost:8080/"
        },
        "id": "IUmtA01DFRUk",
        "outputId": "dda75852-c79c-4724-8727-ab95cf05d5d5"
      },
      "execution_count": null,
      "outputs": [
        {
          "output_type": "stream",
          "name": "stdout",
          "text": [
            "minimizer: [0.3        3.00000912]\n",
            "iterations: 132\n",
            "minimum:-4.95\n"
          ]
        }
      ]
    },
    {
      "cell_type": "code",
      "source": [
        "#qst 6\n",
        "import numpy as np\n",
        "def gradient_descent(\n",
        "    gradient, start, learn_rate, n_iter=500, tolerance=1e-06\n",
        "):\n",
        "    #complete here the function definition\n",
        "    vector = start\n",
        "    for i in range(n_iter):\n",
        "        diff = -learn_rate * gradient(vector)\n",
        "        if np.all(np.abs(diff) <= tolerance):\n",
        "            break\n",
        "        vector += diff\n",
        "    return vector, i\n",
        "\n",
        "\n",
        "def solution ():\n",
        "    ans, iter =  gradient_descent(\n",
        "        gradient = lambda v: np.array([ 10 * v[0] -3,  v[1] -3]), \n",
        "        start = np.array([13.0, 13.0]), \n",
        "        learn_rate=0.1,\n",
        "        )\n",
        "    x,y = ans\n",
        "    z = 5 * x**2 + (y**2 / 2 ) - 3 *( x+y)\n",
        "  \n",
        "    \n",
        "    return ans, z, iter\n",
        "\n",
        "minimizer, minimum, iterations= solution()\n",
        "\n",
        "print('minimizer:',minimizer)\n",
        "print('iterations:', iterations)\n",
        "print ('minimum:%.2f'%minimum)"
      ],
      "metadata": {
        "colab": {
          "base_uri": "https://localhost:8080/"
        },
        "id": "lyjQzl9-vaMX",
        "outputId": "9d4c330d-ac05-448b-9ffd-c62828958b42"
      },
      "execution_count": null,
      "outputs": [
        {
          "output_type": "stream",
          "name": "stdout",
          "text": [
            "minimizer: [0.3        3.00000912]\n",
            "iterations: 132\n",
            "minimum:-4.95\n"
          ]
        }
      ]
    },
    {
      "cell_type": "code",
      "source": [
        "#question 4\n",
        "import tensorflow as tf\n",
        "\n",
        "# Create needed objects\n",
        "sgd = tf.keras.optimizers.SGD(learning_rate=0.2, momentum=0.25)\n",
        "var = tf.Variable(10.0)\n",
        "cost = lambda: var * var -var + 1\n",
        "ancien_cost = cost().numpy()\n",
        "# Perform optimization\n",
        "for i in range(100):\n",
        "  sgd.minimize(cost, var_list=[var])\n",
        "  if (cost().numpy() == ancien_cost)  :\n",
        "        break\n",
        "\n",
        "minimizer= var.numpy()\n",
        "minimum = cost().numpy()\n",
        "print('minimizer:%.2f'%minimizer)\n",
        "print('iterations:', i)\n",
        "print ('minimum:%.2f'%minimum)\n",
        "\n"
      ],
      "metadata": {
        "colab": {
          "base_uri": "https://localhost:8080/"
        },
        "id": "4JvMXfmh3wbm",
        "outputId": "d8b7ec9b-9bef-4a38-d5e3-3145ad9fc0c4"
      },
      "execution_count": null,
      "outputs": [
        {
          "output_type": "stream",
          "name": "stdout",
          "text": [
            "minimizer:0.50\n",
            "iterations: 99\n",
            "minimum:0.75\n"
          ]
        }
      ]
    },
    {
      "cell_type": "code",
      "source": [],
      "metadata": {
        "id": "CLcrc6xIFz9a"
      },
      "execution_count": null,
      "outputs": []
    },
    {
      "cell_type": "code",
      "source": [
        "#qst 3\n",
        "def gradient_descent(\n",
        "    gradient, start, learn_rate, n_iter=500, tolerance=1e-06\n",
        "):\n",
        "    vector = start\n",
        "    for i in range(n_iter):\n",
        "        diff = -learn_rate * gradient(vector)\n",
        "        if np.all(np.abs(diff) <= tolerance):\n",
        "            break\n",
        "        vector += diff\n",
        "    return vector, i\n",
        "\n",
        "\n",
        "\n",
        "def solution ():\n",
        "    x, iter = gradient_descent(\n",
        "        gradient=lambda v: 2*v-1,\n",
        "        start=10.0,\n",
        "        learn_rate=0.2\n",
        "        )\n",
        "    \n",
        "    z = x*x-x+1\n",
        "    \n",
        "    return x, z, iter"
      ],
      "metadata": {
        "id": "1G4vJs8h5kdH"
      },
      "execution_count": null,
      "outputs": []
    },
    {
      "cell_type": "code",
      "source": [
        "#qst 7 \n",
        "import numpy as np\n",
        "import tensorflow as tf\n",
        "\n",
        "# Create needed objects\n",
        "sgd = tf.keras.optimizers.SGD(learning_rate=0.1, momentum=0.2)\n",
        "x = tf.Variable(1.0)\n",
        "y = tf.Variable(1.0)\n",
        "cost = lambda: 5*x*x + (y*y)/2 - 3*(x+y)\n",
        "ancien_cost = cost().numpy()\n",
        "\n",
        "# Perform optimization\n",
        "for i in range(100):\n",
        "    sgd.minimize(cost, var_list=[x,y])\n",
        "    if (cost().numpy() == ancien_cost)  :\n",
        "        break\n",
        "\n",
        "\n",
        "minimizer_x = x.numpy()\n",
        "minimizer_y = y.numpy()\n",
        "minimum = cost().numpy()\n",
        "\n",
        "print('minimizer x1: %.2f'%minimizer_x)\n",
        "print('minimizer x2: %.2f'%minimizer_y)\n",
        "print('iterations:', i)\n",
        "print ('minimum:%.2f'%minimum)"
      ],
      "metadata": {
        "colab": {
          "base_uri": "https://localhost:8080/"
        },
        "id": "3llgHK_r5l1f",
        "outputId": "66a901e0-0be0-4146-9db7-abc59a43ae97"
      },
      "execution_count": null,
      "outputs": [
        {
          "output_type": "stream",
          "name": "stdout",
          "text": [
            "minimizer x1: 0.30\n",
            "minimizer x2: 3.00\n",
            "minimum:-4.95\n"
          ]
        }
      ]
    },
    {
      "cell_type": "code",
      "source": [],
      "metadata": {
        "id": "N58aTxVC5sBt"
      },
      "execution_count": null,
      "outputs": []
    },
    {
      "cell_type": "markdown",
      "source": [
        "EXAMEN\n"
      ],
      "metadata": {
        "id": "4YtUQYa92QoC"
      }
    },
    {
      "cell_type": "code",
      "source": [
        "from enum import Enum\n",
        "\n",
        "class D(Enum):\n",
        "    x = 1\n",
        "    y = 2\n",
        "    z = 3\n",
        "\n",
        "\n",
        "for s in D:\n",
        "  print(s.key)"
      ],
      "metadata": {
        "colab": {
          "base_uri": "https://localhost:8080/",
          "height": 201
        },
        "id": "GgpIaP5s2Tb4",
        "outputId": "80a73f0b-d7fa-4349-d523-15bd4e5c1faa"
      },
      "execution_count": null,
      "outputs": [
        {
          "output_type": "error",
          "ename": "AttributeError",
          "evalue": "ignored",
          "traceback": [
            "\u001b[0;31m---------------------------------------------------------------------------\u001b[0m",
            "\u001b[0;31mAttributeError\u001b[0m                            Traceback (most recent call last)",
            "\u001b[0;32m<ipython-input-6-5edb36b3fae5>\u001b[0m in \u001b[0;36m<module>\u001b[0;34m\u001b[0m\n\u001b[1;32m      8\u001b[0m \u001b[0;34m\u001b[0m\u001b[0m\n\u001b[1;32m      9\u001b[0m \u001b[0;32mfor\u001b[0m \u001b[0ms\u001b[0m \u001b[0;32min\u001b[0m \u001b[0mD\u001b[0m\u001b[0;34m:\u001b[0m\u001b[0;34m\u001b[0m\u001b[0;34m\u001b[0m\u001b[0m\n\u001b[0;32m---> 10\u001b[0;31m   \u001b[0mprint\u001b[0m\u001b[0;34m(\u001b[0m\u001b[0ms\u001b[0m\u001b[0;34m.\u001b[0m\u001b[0mkey\u001b[0m\u001b[0;34m)\u001b[0m\u001b[0;34m\u001b[0m\u001b[0;34m\u001b[0m\u001b[0m\n\u001b[0m",
            "\u001b[0;31mAttributeError\u001b[0m: 'D' object has no attribute 'key'"
          ]
        }
      ]
    },
    {
      "cell_type": "code",
      "source": [
        "import matplotlib.pyplot as plt\n",
        "import numpy as np\n",
        "\n",
        "x = np.linspace(-2, 2, 100)\n",
        "y = np.linspace(-2, 2, 100)\n",
        "X, Y = np.meshgrid(x, y)\n",
        "Z = X**2 + Y**2\n",
        "\n",
        "fig, ax = plt.subplots()\n",
        "cf = ax.contourf( Z, levels=np.linspace(0, 4, 9), cmap='Reds')\n",
        "cbar = fig.colorbar(cf)\n",
        "ax.set_title('Graphique de contour rempli')\n",
        "plt.show()\n"
      ],
      "metadata": {
        "colab": {
          "base_uri": "https://localhost:8080/",
          "height": 281
        },
        "id": "f4ejcRXLHNI3",
        "outputId": "e71ae41e-b7a9-4e34-f17a-4799d0324ccd"
      },
      "execution_count": null,
      "outputs": [
        {
          "output_type": "display_data",
          "data": {
            "text/plain": [
              "<Figure size 432x288 with 2 Axes>"
            ],
            "image/png": "[encoded data removed]"
          },
          "metadata": {
            "needs_background": "light"
          }
        }
      ]
    },
    {
      "cell_type": "code",
      "source": [
        "print(np.min([1,3,5,2]))"
      ],
      "metadata": {
        "colab": {
          "base_uri": "https://localhost:8080/"
        },
        "id": "kM_aS_V_QN2d",
        "outputId": "3ab7b452-f3b7-4b59-a0ba-01722c9dbfdc"
      },
      "execution_count": null,
      "outputs": [
        {
          "output_type": "stream",
          "name": "stdout",
          "text": [
            "1\n"
          ]
        }
      ]
    }
  ]
}